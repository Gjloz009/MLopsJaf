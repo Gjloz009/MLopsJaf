{
 "cells": [
  {
   "cell_type": "code",
   "execution_count": 13,
   "id": "837e6d79-4493-44bc-8a4f-23a7a83cce7a",
   "metadata": {},
   "outputs": [],
   "source": [
    "import pandas as pd\n",
    "import seaborn as sns\n",
    "import matplotlib as plt\n",
    "\n",
    "\n",
    "from sklearn.feature_extraction import DictVectorizer\n",
    "from sklearn.linear_model import LinearRegression\n",
    "from sklearn.metrics import mean_squared_error\n",
    "from sklearn.linear_model import Lasso\n",
    "\n",
    "import pickle"
   ]
  },
  {
   "cell_type": "code",
   "execution_count": 2,
   "id": "3ff92af1",
   "metadata": {},
   "outputs": [
    {
     "data": {
      "text/plain": [
       "<Experiment: artifact_location='/workspaces/MLopsJaf/homeworks/mlruns/1', creation_time=1717006451345, experiment_id='1', last_update_time=1717006451345, lifecycle_stage='active', name='nyc-taxi-experiment', tags={}>"
      ]
     },
     "execution_count": 2,
     "metadata": {},
     "output_type": "execute_result"
    }
   ],
   "source": [
    "import mlflow\n",
    "\n",
    "mlflow.set_tracking_uri(\"sqlite:///mlflow.db\")\n",
    "mlflow.set_experiment(\"nyc-taxi-experiment\")"
   ]
  },
  {
   "cell_type": "code",
   "execution_count": 3,
   "id": "fd54f64a-1756-4e7f-b9b9-0ccaeb76afea",
   "metadata": {},
   "outputs": [],
   "source": [
    "def read_dataframe(filename):\n",
    "    if filename.endswith('.csv'):\n",
    "        df = pd.read_csv(filename)\n",
    "\n",
    "        df.tpep_dropoff_datetime = pd.to_datetime(df.tpep_dropoff_datetime)\n",
    "        df.tpep_pickup_datetime = pd.to_datetime(df.tpep_pickup_datetime)\n",
    "    elif filename.endswith('.parquet'):\n",
    "        df = pd.read_parquet(filename)\n",
    "\n",
    "    df['duration'] = df.tpep_dropoff_datetime - df.tpep_pickup_datetime\n",
    "    df.duration = df.duration.apply(lambda td: td.total_seconds() / 60)\n",
    "\n",
    "    df['dow_tpep_pickup'] = df['tpep_pickup_datetime'].dt.day_name()\n",
    "    df['dow_tpep_dropoff'] = df['tpep_dropoff_datetime'].dt.day_name()\n",
    "\n",
    "    df = df[(df.duration >= 1) & (df.duration <= 60)]\n",
    "\n",
    "    categorical = ['PULocationID', 'DOLocationID','dow_tpep_pickup','dow_tpep_dropoff','payment_type']\n",
    "    df[categorical] = df[categorical].astype(str)\n",
    "\n",
    "    return df"
   ]
  },
  {
   "cell_type": "code",
   "execution_count": 4,
   "id": "1885822c-c296-4c18-9ca4-d16569a93846",
   "metadata": {},
   "outputs": [],
   "source": [
    "df_train = read_dataframe('/workspaces/MLopsJaf/data/yellow_tripdata_2024-01.parquet')\n",
    "df_val = read_dataframe('/workspaces/MLopsJaf/data/yellow_tripdata_2024-02.parquet')"
   ]
  },
  {
   "cell_type": "code",
   "execution_count": 11,
   "id": "43bfeec4-1db8-4707-b4ff-68701ef4f919",
   "metadata": {},
   "outputs": [],
   "source": [
    "df_train_before_tf  = pd.read_parquet('/workspaces/MLopsJaf/data/yellow_tripdata_2024-01.parquet')\n"
   ]
  },
  {
   "cell_type": "code",
   "execution_count": 14,
   "id": "d6c7cc16-2be6-4edb-b345-c72e7625f8d3",
   "metadata": {},
   "outputs": [],
   "source": [
    "\n",
    "df_train_before_tf['duration'] = df_train_before_tf.tpep_dropoff_datetime - df_train_before_tf.tpep_pickup_datetime\n",
    "df_train_before_tf.duration = df_train_before_tf.duration.apply(lambda td: td.total_seconds() / 60)\n"
   ]
  },
  {
   "cell_type": "code",
   "execution_count": 15,
   "id": "daf52b9b-93bb-4029-a4f0-6b76345213dd",
   "metadata": {},
   "outputs": [
    {
     "data": {
      "text/plain": [
       "34.851053592212814"
      ]
     },
     "execution_count": 15,
     "metadata": {},
     "output_type": "execute_result"
    }
   ],
   "source": [
    "df_train_before_tf['duration'].std(axis=0)"
   ]
  },
  {
   "cell_type": "code",
   "execution_count": 6,
   "id": "69144262-3807-4f89-a6d9-2819bd870470",
   "metadata": {},
   "outputs": [
    {
     "data": {
      "text/plain": [
       "count    2.898906e+06\n",
       "mean     1.441373e+01\n",
       "std      1.015959e+01\n",
       "min      1.000000e+00\n",
       "25%      7.250000e+00\n",
       "50%      1.165000e+01\n",
       "75%      1.848333e+01\n",
       "max      6.000000e+01\n",
       "Name: duration, dtype: float64"
      ]
     },
     "execution_count": 6,
     "metadata": {},
     "output_type": "execute_result"
    }
   ],
   "source": [
    "df_train['duration'].describe()"
   ]
  },
  {
   "cell_type": "code",
   "execution_count": 7,
   "id": "3eeda577-59db-46e4-83fd-b06fbec38d27",
   "metadata": {},
   "outputs": [
    {
     "data": {
      "text/plain": [
       "<Axes: xlabel='duration', ylabel='Count'>"
      ]
     },
     "execution_count": 7,
     "metadata": {},
     "output_type": "execute_result"
    },
    {
     "data": {
      "image/png": "[encoded data removed]",
      "text/plain": [
       "<Figure size 640x480 with 1 Axes>"
      ]
     },
     "metadata": {},
     "output_type": "display_data"
    }
   ],
   "source": [
    "sns.histplot(df_train['duration'])"
   ]
  },
  {
   "cell_type": "code",
   "execution_count": 4,
   "id": "2a5a0d66-150a-407a-ad41-633fcab729be",
   "metadata": {},
   "outputs": [
    {
     "data": {
      "text/html": [
       "<div>\n",
       "<style scoped>\n",
       "    .dataframe tbody tr th:only-of-type {\n",
       "        vertical-align: middle;\n",
       "    }\n",
       "\n",
       "    .dataframe tbody tr th {\n",
       "        vertical-align: top;\n",
       "    }\n",
       "\n",
       "    .dataframe thead th {\n",
       "        text-align: right;\n",
       "    }\n",
       "</style>\n",
       "<table border=\"1\" class=\"dataframe\">\n",
       "  <thead>\n",
       "    <tr style=\"text-align: right;\">\n",
       "      <th></th>\n",
       "      <th>VendorID</th>\n",
       "      <th>tpep_pickup_datetime</th>\n",
       "      <th>tpep_dropoff_datetime</th>\n",
       "      <th>passenger_count</th>\n",
       "      <th>trip_distance</th>\n",
       "      <th>RatecodeID</th>\n",
       "      <th>store_and_fwd_flag</th>\n",
       "      <th>PULocationID</th>\n",
       "      <th>DOLocationID</th>\n",
       "      <th>payment_type</th>\n",
       "      <th>...</th>\n",
       "      <th>mta_tax</th>\n",
       "      <th>tip_amount</th>\n",
       "      <th>tolls_amount</th>\n",
       "      <th>improvement_surcharge</th>\n",
       "      <th>total_amount</th>\n",
       "      <th>congestion_surcharge</th>\n",
       "      <th>Airport_fee</th>\n",
       "      <th>duration</th>\n",
       "      <th>dow_tpep_pickup</th>\n",
       "      <th>dow_tpep_dropoff</th>\n",
       "    </tr>\n",
       "  </thead>\n",
       "  <tbody>\n",
       "    <tr>\n",
       "      <th>0</th>\n",
       "      <td>2</td>\n",
       "      <td>2024-01-01 00:57:55</td>\n",
       "      <td>2024-01-01 01:17:43</td>\n",
       "      <td>1.0</td>\n",
       "      <td>1.72</td>\n",
       "      <td>1.0</td>\n",
       "      <td>N</td>\n",
       "      <td>186</td>\n",
       "      <td>79</td>\n",
       "      <td>2</td>\n",
       "      <td>...</td>\n",
       "      <td>0.5</td>\n",
       "      <td>0.00</td>\n",
       "      <td>0.0</td>\n",
       "      <td>1.0</td>\n",
       "      <td>22.70</td>\n",
       "      <td>2.5</td>\n",
       "      <td>0.0</td>\n",
       "      <td>19.8</td>\n",
       "      <td>Monday</td>\n",
       "      <td>Monday</td>\n",
       "    </tr>\n",
       "    <tr>\n",
       "      <th>1</th>\n",
       "      <td>1</td>\n",
       "      <td>2024-01-01 00:03:00</td>\n",
       "      <td>2024-01-01 00:09:36</td>\n",
       "      <td>1.0</td>\n",
       "      <td>1.80</td>\n",
       "      <td>1.0</td>\n",
       "      <td>N</td>\n",
       "      <td>140</td>\n",
       "      <td>236</td>\n",
       "      <td>1</td>\n",
       "      <td>...</td>\n",
       "      <td>0.5</td>\n",
       "      <td>3.75</td>\n",
       "      <td>0.0</td>\n",
       "      <td>1.0</td>\n",
       "      <td>18.75</td>\n",
       "      <td>2.5</td>\n",
       "      <td>0.0</td>\n",
       "      <td>6.6</td>\n",
       "      <td>Monday</td>\n",
       "      <td>Monday</td>\n",
       "    </tr>\n",
       "  </tbody>\n",
       "</table>\n",
       "<p>2 rows × 22 columns</p>\n",
       "</div>"
      ],
      "text/plain": [
       "   VendorID tpep_pickup_datetime tpep_dropoff_datetime  passenger_count  \\\n",
       "0         2  2024-01-01 00:57:55   2024-01-01 01:17:43              1.0   \n",
       "1         1  2024-01-01 00:03:00   2024-01-01 00:09:36              1.0   \n",
       "\n",
       "   trip_distance  RatecodeID store_and_fwd_flag PULocationID DOLocationID  \\\n",
       "0           1.72         1.0                  N          186           79   \n",
       "1           1.80         1.0                  N          140          236   \n",
       "\n",
       "   payment_type  ...  mta_tax  tip_amount  tolls_amount  \\\n",
       "0             2  ...      0.5        0.00           0.0   \n",
       "1             1  ...      0.5        3.75           0.0   \n",
       "\n",
       "   improvement_surcharge  total_amount  congestion_surcharge  Airport_fee  \\\n",
       "0                    1.0         22.70                   2.5          0.0   \n",
       "1                    1.0         18.75                   2.5          0.0   \n",
       "\n",
       "   duration  dow_tpep_pickup  dow_tpep_dropoff  \n",
       "0      19.8           Monday            Monday  \n",
       "1       6.6           Monday            Monday  \n",
       "\n",
       "[2 rows x 22 columns]"
      ]
     },
     "execution_count": 4,
     "metadata": {},
     "output_type": "execute_result"
    }
   ],
   "source": [
    "df_train.head(2)"
   ]
  },
  {
   "cell_type": "code",
   "execution_count": 17,
   "id": "6e6d3350-709d-4737-8a5f-2ffe7a78c126",
   "metadata": {},
   "outputs": [
    {
     "data": {
      "text/html": [
       "<div>\n",
       "<style scoped>\n",
       "    .dataframe tbody tr th:only-of-type {\n",
       "        vertical-align: middle;\n",
       "    }\n",
       "\n",
       "    .dataframe tbody tr th {\n",
       "        vertical-align: top;\n",
       "    }\n",
       "\n",
       "    .dataframe thead th {\n",
       "        text-align: right;\n",
       "    }\n",
       "</style>\n",
       "<table border=\"1\" class=\"dataframe\">\n",
       "  <thead>\n",
       "    <tr style=\"text-align: right;\">\n",
       "      <th></th>\n",
       "      <th>fare_amount</th>\n",
       "      <th>extra</th>\n",
       "      <th>mta_tax</th>\n",
       "      <th>tip_amount</th>\n",
       "      <th>tolls_amount</th>\n",
       "      <th>total_amount</th>\n",
       "    </tr>\n",
       "  </thead>\n",
       "  <tbody>\n",
       "    <tr>\n",
       "      <th>0</th>\n",
       "      <td>17.7</td>\n",
       "      <td>1.0</td>\n",
       "      <td>0.5</td>\n",
       "      <td>0.00</td>\n",
       "      <td>0.0</td>\n",
       "      <td>22.70</td>\n",
       "    </tr>\n",
       "    <tr>\n",
       "      <th>1</th>\n",
       "      <td>10.0</td>\n",
       "      <td>3.5</td>\n",
       "      <td>0.5</td>\n",
       "      <td>3.75</td>\n",
       "      <td>0.0</td>\n",
       "      <td>18.75</td>\n",
       "    </tr>\n",
       "    <tr>\n",
       "      <th>2</th>\n",
       "      <td>23.3</td>\n",
       "      <td>3.5</td>\n",
       "      <td>0.5</td>\n",
       "      <td>3.00</td>\n",
       "      <td>0.0</td>\n",
       "      <td>31.30</td>\n",
       "    </tr>\n",
       "    <tr>\n",
       "      <th>3</th>\n",
       "      <td>10.0</td>\n",
       "      <td>3.5</td>\n",
       "      <td>0.5</td>\n",
       "      <td>2.00</td>\n",
       "      <td>0.0</td>\n",
       "      <td>17.00</td>\n",
       "    </tr>\n",
       "    <tr>\n",
       "      <th>4</th>\n",
       "      <td>7.9</td>\n",
       "      <td>3.5</td>\n",
       "      <td>0.5</td>\n",
       "      <td>3.20</td>\n",
       "      <td>0.0</td>\n",
       "      <td>16.10</td>\n",
       "    </tr>\n",
       "  </tbody>\n",
       "</table>\n",
       "</div>"
      ],
      "text/plain": [
       "   fare_amount  extra  mta_tax  tip_amount  tolls_amount  total_amount\n",
       "0         17.7    1.0      0.5        0.00           0.0         22.70\n",
       "1         10.0    3.5      0.5        3.75           0.0         18.75\n",
       "2         23.3    3.5      0.5        3.00           0.0         31.30\n",
       "3         10.0    3.5      0.5        2.00           0.0         17.00\n",
       "4          7.9    3.5      0.5        3.20           0.0         16.10"
      ]
     },
     "execution_count": 17,
     "metadata": {},
     "output_type": "execute_result"
    }
   ],
   "source": [
    "df_train[['fare_amount','extra','mta_tax','tip_amount','tolls_amount','total_amount']].head(5)"
   ]
  },
  {
   "cell_type": "code",
   "execution_count": 20,
   "id": "085d270c-25a4-412c-97f2-8bc01f4253bf",
   "metadata": {},
   "outputs": [
    {
     "data": {
      "text/plain": [
       "0    20.20\n",
       "1    18.75\n",
       "2    31.30\n",
       "3    17.00\n",
       "4    16.10\n",
       "dtype: float64"
      ]
     },
     "execution_count": 20,
     "metadata": {},
     "output_type": "execute_result"
    }
   ],
   "source": [
    "df_train[['fare_amount','extra','tip_amount','tolls_amount','mta_tax','improvement_surcharge']].sum(axis=1).head(5)"
   ]
  },
  {
   "cell_type": "code",
   "execution_count": 7,
   "id": "356f658d-e70d-452b-ba0b-2318c6dae6da",
   "metadata": {},
   "outputs": [
    {
     "data": {
      "text/plain": [
       "VendorID                          int32\n",
       "tpep_pickup_datetime     datetime64[us]\n",
       "tpep_dropoff_datetime    datetime64[us]\n",
       "passenger_count                 float64\n",
       "trip_distance                   float64\n",
       "RatecodeID                      float64\n",
       "store_and_fwd_flag               object\n",
       "PULocationID                     object\n",
       "DOLocationID                     object\n",
       "payment_type                      int64\n",
       "fare_amount                     float64\n",
       "extra                           float64\n",
       "mta_tax                         float64\n",
       "tip_amount                      float64\n",
       "tolls_amount                    float64\n",
       "improvement_surcharge           float64\n",
       "total_amount                    float64\n",
       "congestion_surcharge            float64\n",
       "Airport_fee                     float64\n",
       "duration                        float64\n",
       "dow_tpep_pickup                  object\n",
       "dow_tpep_dropoff                 object\n",
       "dtype: object"
      ]
     },
     "execution_count": 7,
     "metadata": {},
     "output_type": "execute_result"
    }
   ],
   "source": [
    "df_train.dtypes"
   ]
  },
  {
   "cell_type": "code",
   "execution_count": 5,
   "id": "45c9a9bc-c800-4e00-bedf-86ecd34e8d14",
   "metadata": {},
   "outputs": [],
   "source": [
    "df_train['dow'] = df_train['dow_tpep_pickup']+ '_' + df_train['dow_tpep_dropoff']\n",
    "df_val['dow'] = df_val['dow_tpep_pickup']+ '_' + df_val['dow_tpep_dropoff']"
   ]
  },
  {
   "cell_type": "code",
   "execution_count": 5,
   "id": "5c995ba4-44b3-4092-9a55-adce3b1eca5f",
   "metadata": {},
   "outputs": [],
   "source": [
    "df_train['PU_DO'] = df_train['PULocationID'] + '_' + df_train['DOLocationID']\n",
    "df_val['PU_DO'] = df_val['PULocationID'] + '_' + df_val['DOLocationID']"
   ]
  },
  {
   "cell_type": "code",
   "execution_count": 7,
   "id": "604ef735-b3ae-4cf8-ad9f-27a3bfe7c23e",
   "metadata": {},
   "outputs": [
    {
     "ename": "",
     "evalue": "",
     "output_type": "error",
     "traceback": [
      "\u001b[1;31mThe Kernel crashed while executing code in the current cell or a previous cell. \n",
      "\u001b[1;31mPlease review the code in the cell(s) to identify a possible cause of the failure. \n",
      "\u001b[1;31mClick <a href='https://aka.ms/vscodeJupyterKernelCrash'>here</a> for more info. \n",
      "\u001b[1;31mView Jupyter <a href='command:jupyter.viewOutput'>log</a> for further details."
     ]
    }
   ],
   "source": [
    "categorical = ['PU_DO','dow','payment_type']#'dow_tpep_pickup','dow_tpep_dropoff'] #'PULocationID', 'DOLocationID']\n",
    "numerical = ['trip_distance','total_amount']\n",
    "\n",
    "dv = DictVectorizer()\n",
    "\n",
    "train_dicts = df_train[categorical + numerical].to_dict(orient='records')\n",
    "X_train = dv.fit_transform(train_dicts)\n",
    "\n",
    "val_dicts = df_val[categorical + numerical].to_dict(orient='records')\n",
    "X_val = dv.transform(val_dicts)"
   ]
  },
  {
   "cell_type": "code",
   "execution_count": 6,
   "id": "d32a73de-1a8c-4fae-bd28-faae471b8db5",
   "metadata": {},
   "outputs": [],
   "source": [
    "target = 'duration'\n",
    "y_train = df_train[target].values\n",
    "y_val = df_val[target].values"
   ]
  },
  {
   "cell_type": "code",
   "execution_count": 7,
   "id": "52fc9f67-3452-4baf-8270-a249f7421562",
   "metadata": {},
   "outputs": [
    {
     "name": "stderr",
     "output_type": "stream",
     "text": [
      "/home/codespace/.local/lib/python3.10/site-packages/sklearn/metrics/_regression.py:483: FutureWarning: 'squared' is deprecated in version 1.4 and will be removed in 1.6. To calculate the root mean squared error, use the function'root_mean_squared_error'.\n",
      "  warnings.warn(\n"
     ]
    },
    {
     "data": {
      "text/plain": [
       "5.502786179844923"
      ]
     },
     "execution_count": 7,
     "metadata": {},
     "output_type": "execute_result"
    }
   ],
   "source": [
    "lr = LinearRegression()\n",
    "lr.fit(X_train, y_train)\n",
    "\n",
    "y_pred = lr.predict(X_val)\n",
    "\n",
    "mean_squared_error(y_val, y_pred, squared=False)"
   ]
  },
  {
   "cell_type": "code",
   "execution_count": null,
   "id": "bfe7fcfd-a5ea-4a6b-977e-6138590a81fc",
   "metadata": {},
   "outputs": [],
   "source": [
    "svr = SVR(kernel='rbf', C=100, gamma=0.1, epsilon=0.1)\n",
    "svr.fit(X_train, y_train)\n",
    "\n",
    "y_pred = svr.predict(X_val)\n",
    "\n",
    "mean_squared_error(y_val,y_pred,squared=False)"
   ]
  },
  {
   "cell_type": "code",
   "execution_count": 24,
   "id": "27fbf98f-357b-4131-b95f-12b5d4ff4dc8",
   "metadata": {},
   "outputs": [
    {
     "data": {
      "text/plain": [
       "(2898906, 518)"
      ]
     },
     "execution_count": 24,
     "metadata": {},
     "output_type": "execute_result"
    }
   ],
   "source": [
    "X_train.shape"
   ]
  },
  {
   "cell_type": "code",
   "execution_count": 6,
   "id": "159c10ca-691d-496b-9185-60cab135f239",
   "metadata": {},
   "outputs": [
    {
     "ename": "",
     "evalue": "",
     "output_type": "error",
     "traceback": [
      "\u001b[1;31mThe Kernel crashed while executing code in the current cell or a previous cell. \n",
      "\u001b[1;31mPlease review the code in the cell(s) to identify a possible cause of the failure. \n",
      "\u001b[1;31mClick <a href='https://aka.ms/vscodeJupyterKernelCrash'>here</a> for more info. \n",
      "\u001b[1;31mView Jupyter <a href='command:jupyter.viewOutput'>log</a> for further details."
     ]
    }
   ],
   "source": [
    "categorical = ['PU_DO'] #'PULocationID', 'DOLocationID']\n",
    "numerical = ['trip_distance']\n",
    "\n",
    "dv = DictVectorizer()\n",
    "\n",
    "train_dicts = df_train[numerical].to_dict(orient='records')\n",
    "X_train = dv.fit_transform(train_dicts)\n",
    "val_dicts = df_val[categorical].to_dict(orient='records')\n",
    "X_val = dv.transform(val_dicts)"
   ]
  },
  {
   "cell_type": "code",
   "execution_count": 6,
   "id": "ee544bd4",
   "metadata": {},
   "outputs": [],
   "source": [
    "X_train = df_train['PU_DO'].values\n",
    "X_val = df_val['PU_DO'].values\n",
    "\n",
    "X_train = X_train.reshape(-1,1)\n",
    "X_val = X_val.reshape(-1,1)"
   ]
  },
  {
   "cell_type": "code",
   "execution_count": 14,
   "id": "2a92de0a",
   "metadata": {},
   "outputs": [
    {
     "data": {
      "text/plain": [
       "array([['186_79'],\n",
       "       ['140_236'],\n",
       "       ['236_79'],\n",
       "       ...,\n",
       "       ['211_25'],\n",
       "       ['107_13'],\n",
       "       ['138_75']], dtype=object)"
      ]
     },
     "execution_count": 14,
     "metadata": {},
     "output_type": "execute_result"
    }
   ],
   "source": [
    "X_train"
   ]
  },
  {
   "cell_type": "code",
   "execution_count": 7,
   "id": "6d3abfb0-93ab-499c-8fda-24a80e16192e",
   "metadata": {},
   "outputs": [],
   "source": [
    "target = 'duration'\n",
    "y_train = df_train[target].values\n",
    "y_val = df_val[target].values"
   ]
  },
  {
   "cell_type": "code",
   "execution_count": 11,
   "id": "3ce9bff1-4ba3-4ad1-acba-569d2aa27a68",
   "metadata": {},
   "outputs": [
    {
     "name": "stderr",
     "output_type": "stream",
     "text": [
      "/home/codespace/.local/lib/python3.10/site-packages/sklearn/metrics/_regression.py:483: FutureWarning: 'squared' is deprecated in version 1.4 and will be removed in 1.6. To calculate the root mean squared error, use the function'root_mean_squared_error'.\n",
      "  warnings.warn(\n"
     ]
    }
   ],
   "source": [
    "with mlflow.start_run():\n",
    "    \n",
    "    mlflow.set_tag(\"developer\",\"jafet\") #quien hizo \n",
    "    mlflow.log_param(\"train_data_path\",\"/workspaces/MLopsJaf/data/yellow_tripdata_2024-01.parquet\")\n",
    "    mlflow.log_param(\"validation_data_path\",\"/workspaces/MLopsJaf/data/yellow_tripdata_2024-02.parquet\")\n",
    "    \n",
    "    lr = LinearRegression()\n",
    "    lr.fit(X_train, y_train)\n",
    "\n",
    "    y_pred = lr.predict(X_val)\n",
    "\n",
    "    rmse = mean_squared_error(y_val, y_pred, squared=False)\n",
    "    mlflow.log_metric(\"rmse\",rmse)"
   ]
  },
  {
   "cell_type": "code",
   "execution_count": 22,
   "id": "c990b34d-a631-45ba-9650-03b1a016620f",
   "metadata": {},
   "outputs": [
    {
     "name": "stderr",
     "output_type": "stream",
     "text": [
      "/home/codespace/.local/lib/python3.10/site-packages/sklearn/metrics/_regression.py:483: FutureWarning: 'squared' is deprecated in version 1.4 and will be removed in 1.6. To calculate the root mean squared error, use the function'root_mean_squared_error'.\n",
      "  warnings.warn(\n"
     ]
    },
    {
     "data": {
      "text/plain": [
       "8.12339298062458"
      ]
     },
     "execution_count": 22,
     "metadata": {},
     "output_type": "execute_result"
    }
   ],
   "source": [
    "y_pred = lr.predict(X_val)\n",
    "\n",
    "mean_squared_error(y_val, y_pred, squared=False)"
   ]
  },
  {
   "cell_type": "code",
   "execution_count": 16,
   "id": "f6115a3c-f277-45b5-9fe5-b5c1d4c7e8b7",
   "metadata": {},
   "outputs": [
    {
     "name": "stderr",
     "output_type": "stream",
     "text": [
      "/home/codespace/.local/lib/python3.10/site-packages/sklearn/metrics/_regression.py:483: FutureWarning: 'squared' is deprecated in version 1.4 and will be removed in 1.6. To calculate the root mean squared error, use the function'root_mean_squared_error'.\n",
      "  warnings.warn(\n"
     ]
    }
   ],
   "source": [
    "with mlflow.start_run():\n",
    "    mlflow.set_tag(\"developer\",\"jafet\")\n",
    "    mlflow.log_param(\"train_data_path\",\"/workspaces/MLopsJaf/data/yellow_tripdata_2024-01.parquet\")\n",
    "    mlflow.log_param(\"validation_data_path\",\"/workspaces/MLopsJaf/data/yellow_tripdata_2024-02.parquet\")\n",
    "\n",
    "    alpha=0.1\n",
    "    mlflow.log_param(\"alpha\",alpha)\n",
    "    \n",
    "    lr = Lasso(alpha)\n",
    "    lr.fit(X_train, y_train)\n",
    "\n",
    "    y_pred = lr.predict(X_val)\n",
    "\n",
    "    rmse = mean_squared_error(y_val, y_pred, squared=False)\n",
    "    mlflow.log_metric(\"rmse\",rmse)"
   ]
  },
  {
   "cell_type": "code",
   "execution_count": 20,
   "id": "d526baf4-eebd-4753-a235-02f083ce69c3",
   "metadata": {},
   "outputs": [],
   "source": [
    "import xgboost as xgb\n",
    "from hyperopt import fmin, tpe, hp, STATUS_OK, Trials\n",
    "from hyperopt.pyll import scope\n",
    "\n",
    "train = xgb.DMatrix(X_train, label=y_train)\n",
    "valid = xgb.DMatrix(X_val, label=y_val)\n",
    "\n",
    "def objective(params):\n",
    "    with mlflow.start_run():\n",
    "        mlflow.set_tag(\"model\", \"xgboost\")\n",
    "        mlflow.log_params(params)\n",
    "        booster = xgb.train(\n",
    "            params=params,\n",
    "            dtrain=train,\n",
    "            num_boost_round=100,\n",
    "            evals=[(valid, 'validation')],\n",
    "            early_stopping_rounds=5\n",
    "        )\n",
    "        y_pred = booster.predict(valid)\n",
    "        rmse = mean_squared_error(y_val, y_pred, squared=False)\n",
    "        mlflow.log_metric(\"rmse\", rmse)\n",
    "\n",
    "    return {'loss': rmse, 'status': STATUS_OK}"
   ]
  },
  {
   "cell_type": "code",
   "execution_count": 21,
   "id": "14574f45-4130-4b17-aa4e-ee0f66805f59",
   "metadata": {
    "scrolled": true
   },
   "outputs": [
    {
     "name": "stdout",
     "output_type": "stream",
     "text": [
      "  0%|                                                                                                  | 0/5 [00:00<?, ?trial/s, best loss=?]"
     ]
    },
    {
     "name": "stderr",
     "output_type": "stream",
     "text": [
      "/opt/conda/envs/exp-tracking-env/lib/python3.10/site-packages/xgboost/core.py:160: UserWarning: [03:15:00] WARNING: /workspace/src/objective/regression_obj.cu:209: reg:linear is now deprecated in favor of reg:squarederror.\n",
      "  warnings.warn(smsg, UserWarning)\n",
      "\n"
     ]
    },
    {
     "name": "stdout",
     "output_type": "stream",
     "text": [
      "[0]\tvalidation-rmse:9.75778                                                                                                                  \n",
      "[1]\tvalidation-rmse:9.40724                                                                                                                  \n",
      "[2]\tvalidation-rmse:9.16166                                                                                                                  \n",
      "[3]\tvalidation-rmse:8.99088                                                                                                                  \n",
      "[4]\tvalidation-rmse:8.87267                                                                                                                  \n",
      "[5]\tvalidation-rmse:8.79106                                                                                                                  \n",
      "[6]\tvalidation-rmse:8.73476                                                                                                                  \n",
      "[7]\tvalidation-rmse:8.69588                                                                                                                  \n",
      "[8]\tvalidation-rmse:8.66899                                                                                                                  \n",
      "[9]\tvalidation-rmse:8.65033                                                                                                                  \n",
      "[10]\tvalidation-rmse:8.63732                                                                                                                 \n",
      "[11]\tvalidation-rmse:8.62821                                                                                                                 \n",
      "[12]\tvalidation-rmse:8.62179                                                                                                                 \n",
      "[13]\tvalidation-rmse:8.61723                                                                                                                 \n",
      "[14]\tvalidation-rmse:8.61397                                                                                                                 \n",
      "[15]\tvalidation-rmse:8.61162                                                                                                                 \n",
      "[16]\tvalidation-rmse:8.60991                                                                                                                 \n",
      "[17]\tvalidation-rmse:8.60866                                                                                                                 \n",
      "[18]\tvalidation-rmse:8.60773                                                                                                                 \n",
      "[19]\tvalidation-rmse:8.60703                                                                                                                 \n",
      "[20]\tvalidation-rmse:8.60650                                                                                                                 \n",
      "[21]\tvalidation-rmse:8.60610                                                                                                                 \n",
      "[22]\tvalidation-rmse:8.60579                                                                                                                 \n",
      "[23]\tvalidation-rmse:8.60555                                                                                                                 \n",
      "[24]\tvalidation-rmse:8.60536                                                                                                                 \n",
      "[25]\tvalidation-rmse:8.60522                                                                                                                 \n",
      "[26]\tvalidation-rmse:8.60510                                                                                                                 \n",
      "[27]\tvalidation-rmse:8.60501                                                                                                                 \n",
      "[28]\tvalidation-rmse:8.60493                                                                                                                 \n",
      "[29]\tvalidation-rmse:8.60487                                                                                                                 \n",
      "[30]\tvalidation-rmse:8.60482                                                                                                                 \n",
      "[31]\tvalidation-rmse:8.60478                                                                                                                 \n",
      "[32]\tvalidation-rmse:8.60475                                                                                                                 \n",
      "[33]\tvalidation-rmse:8.60473                                                                                                                 \n",
      "[34]\tvalidation-rmse:8.60470                                                                                                                 \n",
      "[35]\tvalidation-rmse:8.60469                                                                                                                 \n",
      "[36]\tvalidation-rmse:8.60467                                                                                                                 \n",
      "[37]\tvalidation-rmse:8.60466                                                                                                                 \n",
      "[38]\tvalidation-rmse:8.60465                                                                                                                 \n",
      "[39]\tvalidation-rmse:8.60465                                                                                                                 \n",
      "[40]\tvalidation-rmse:8.60464                                                                                                                 \n",
      "[41]\tvalidation-rmse:8.60463                                                                                                                 \n",
      "[42]\tvalidation-rmse:8.60463                                                                                                                 \n",
      "[43]\tvalidation-rmse:8.60463                                                                                                                 \n",
      "[44]\tvalidation-rmse:8.60462                                                                                                                 \n",
      "[45]\tvalidation-rmse:8.60462                                                                                                                 \n",
      "[46]\tvalidation-rmse:8.60462                                                                                                                 \n",
      "[47]\tvalidation-rmse:8.60462                                                                                                                 \n",
      "[48]\tvalidation-rmse:8.60462                                                                                                                 \n",
      "[49]\tvalidation-rmse:8.60462                                                                                                                 \n",
      "[50]\tvalidation-rmse:8.60461                                                                                                                 \n",
      "[51]\tvalidation-rmse:8.60461                                                                                                                 \n",
      "[52]\tvalidation-rmse:8.60461                                                                                                                 \n",
      "[53]\tvalidation-rmse:8.60461                                                                                                                 \n",
      "[54]\tvalidation-rmse:8.60461                                                                                                                 \n",
      "[55]\tvalidation-rmse:8.60461                                                                                                                 \n",
      "[56]\tvalidation-rmse:8.60461                                                                                                                 \n",
      "[57]\tvalidation-rmse:8.60461                                                                                                                 \n",
      "[58]\tvalidation-rmse:8.60461                                                                                                                 \n",
      "[59]\tvalidation-rmse:8.60461                                                                                                                 \n",
      "[60]\tvalidation-rmse:8.60461                                                                                                                 \n",
      "[61]\tvalidation-rmse:8.60461                                                                                                                 \n",
      "[62]\tvalidation-rmse:8.60461                                                                                                                 \n",
      "[63]\tvalidation-rmse:8.60461                                                                                                                 \n",
      "[64]\tvalidation-rmse:8.60461                                                                                                                 \n",
      "[65]\tvalidation-rmse:8.60461                                                                                                                 \n",
      "[66]\tvalidation-rmse:8.60461                                                                                                                 \n",
      "[67]\tvalidation-rmse:8.60461                                                                                                                 \n",
      "[68]\tvalidation-rmse:8.60461                                                                                                                 \n",
      "[69]\tvalidation-rmse:8.60461                                                                                                                 \n",
      "[70]\tvalidation-rmse:8.60461                                                                                                                 \n",
      "[71]\tvalidation-rmse:8.60461                                                                                                                 \n",
      "[72]\tvalidation-rmse:8.60461                                                                                                                 \n",
      "[73]\tvalidation-rmse:8.60461                                                                                                                 \n",
      "[74]\tvalidation-rmse:8.60461                                                                                                                 \n",
      "[75]\tvalidation-rmse:8.60461                                                                                                                 \n",
      "[76]\tvalidation-rmse:8.60461                                                                                                                 \n",
      "[77]\tvalidation-rmse:8.60461                                                                                                                 \n",
      "[78]\tvalidation-rmse:8.60461                                                                                                                 \n",
      "[79]\tvalidation-rmse:8.60461                                                                                                                 \n",
      "[80]\tvalidation-rmse:8.60461                                                                                                                 \n",
      "[81]\tvalidation-rmse:8.60461                                                                                                                 \n",
      "[82]\tvalidation-rmse:8.60461                                                                                                                 \n",
      "[83]\tvalidation-rmse:8.60461                                                                                                                 \n",
      "[84]\tvalidation-rmse:8.60461                                                                                                                 \n",
      " 20%|██████████████▊                                                           | 1/5 [00:35<02:21, 35.48s/trial, best loss: 8.60461084150837]"
     ]
    },
    {
     "name": "stderr",
     "output_type": "stream",
     "text": [
      "/home/codespace/.local/lib/python3.10/site-packages/sklearn/metrics/_regression.py:483: FutureWarning: 'squared' is deprecated in version 1.4 and will be removed in 1.6. To calculate the root mean squared error, use the function'root_mean_squared_error'.\n",
      "  warnings.warn(\n",
      "\n",
      "/opt/conda/envs/exp-tracking-env/lib/python3.10/site-packages/xgboost/core.py:160: UserWarning: [03:15:35] WARNING: /workspace/src/objective/regression_obj.cu:209: reg:linear is now deprecated in favor of reg:squarederror.\n",
      "  warnings.warn(smsg, UserWarning)\n",
      "\n"
     ]
    },
    {
     "name": "stdout",
     "output_type": "stream",
     "text": [
      "[0]\tvalidation-rmse:10.01899                                                                                                                 \n",
      "[1]\tvalidation-rmse:9.81673                                                                                                                  \n",
      "[2]\tvalidation-rmse:9.64235                                                                                                                  \n",
      "[3]\tvalidation-rmse:9.49234                                                                                                                  \n",
      "[4]\tvalidation-rmse:9.36353                                                                                                                  \n",
      "[5]\tvalidation-rmse:9.25311                                                                                                                  \n",
      "[6]\tvalidation-rmse:9.15859                                                                                                                  \n",
      "[7]\tvalidation-rmse:9.07776                                                                                                                  \n",
      "[8]\tvalidation-rmse:9.00873                                                                                                                  \n",
      "[9]\tvalidation-rmse:8.94980                                                                                                                  \n",
      "[10]\tvalidation-rmse:8.89954                                                                                                                 \n",
      "[11]\tvalidation-rmse:8.85669                                                                                                                 \n",
      "[12]\tvalidation-rmse:8.82016                                                                                                                 \n",
      "[13]\tvalidation-rmse:8.78903                                                                                                                 \n",
      "[14]\tvalidation-rmse:8.76250                                                                                                                 \n",
      "[15]\tvalidation-rmse:8.73990                                                                                                                 \n",
      "[16]\tvalidation-rmse:8.72062                                                                                                                 \n",
      "[17]\tvalidation-rmse:8.70419                                                                                                                 \n",
      "[18]\tvalidation-rmse:8.69017                                                                                                                 \n",
      "[19]\tvalidation-rmse:8.67821                                                                                                                 \n",
      "[20]\tvalidation-rmse:8.66799                                                                                                                 \n",
      "[21]\tvalidation-rmse:8.65926                                                                                                                 \n",
      "[22]\tvalidation-rmse:8.65179                                                                                                                 \n",
      "[23]\tvalidation-rmse:8.64541                                                                                                                 \n",
      "[24]\tvalidation-rmse:8.63993                                                                                                                 \n",
      "[25]\tvalidation-rmse:8.63524                                                                                                                 \n",
      "[26]\tvalidation-rmse:8.63121                                                                                                                 \n",
      "[27]\tvalidation-rmse:8.62775                                                                                                                 \n",
      "[28]\tvalidation-rmse:8.62478                                                                                                                 \n",
      "[29]\tvalidation-rmse:8.62221                                                                                                                 \n",
      "[30]\tvalidation-rmse:8.62000                                                                                                                 \n",
      "[31]\tvalidation-rmse:8.61809                                                                                                                 \n",
      "[32]\tvalidation-rmse:8.61644                                                                                                                 \n",
      "[33]\tvalidation-rmse:8.61501                                                                                                                 \n",
      "[34]\tvalidation-rmse:8.61377                                                                                                                 \n",
      "[35]\tvalidation-rmse:8.61269                                                                                                                 \n",
      "[36]\tvalidation-rmse:8.61175                                                                                                                 \n",
      "[37]\tvalidation-rmse:8.61093                                                                                                                 \n",
      "[38]\tvalidation-rmse:8.61022                                                                                                                 \n",
      "[39]\tvalidation-rmse:8.60959                                                                                                                 \n",
      "[40]\tvalidation-rmse:8.60904                                                                                                                 \n",
      "[41]\tvalidation-rmse:8.60856                                                                                                                 \n",
      "[42]\tvalidation-rmse:8.60814                                                                                                                 \n",
      "[43]\tvalidation-rmse:8.60777                                                                                                                 \n",
      "[44]\tvalidation-rmse:8.60744                                                                                                                 \n",
      "[45]\tvalidation-rmse:8.60715                                                                                                                 \n",
      "[46]\tvalidation-rmse:8.60689                                                                                                                 \n",
      "[47]\tvalidation-rmse:8.60666                                                                                                                 \n",
      "[48]\tvalidation-rmse:8.60646                                                                                                                 \n",
      "[49]\tvalidation-rmse:8.60627                                                                                                                 \n",
      "[50]\tvalidation-rmse:8.60611                                                                                                                 \n",
      "[51]\tvalidation-rmse:8.60597                                                                                                                 \n",
      "[52]\tvalidation-rmse:8.60584                                                                                                                 \n",
      "[53]\tvalidation-rmse:8.60572                                                                                                                 \n",
      "[54]\tvalidation-rmse:8.60562                                                                                                                 \n",
      "[55]\tvalidation-rmse:8.60553                                                                                                                 \n",
      "[56]\tvalidation-rmse:8.60544                                                                                                                 \n",
      "[57]\tvalidation-rmse:8.60537                                                                                                                 \n",
      "[58]\tvalidation-rmse:8.60530                                                                                                                 \n",
      "[59]\tvalidation-rmse:8.60524                                                                                                                 \n",
      "[60]\tvalidation-rmse:8.60518                                                                                                                 \n",
      "[61]\tvalidation-rmse:8.60513                                                                                                                 \n",
      "[62]\tvalidation-rmse:8.60508                                                                                                                 \n",
      "[63]\tvalidation-rmse:8.60504                                                                                                                 \n",
      "[64]\tvalidation-rmse:8.60501                                                                                                                 \n",
      "[65]\tvalidation-rmse:8.60497                                                                                                                 \n",
      "[66]\tvalidation-rmse:8.60494                                                                                                                 \n",
      "[67]\tvalidation-rmse:8.60491                                                                                                                 \n",
      "[68]\tvalidation-rmse:8.60489                                                                                                                 \n",
      "[69]\tvalidation-rmse:8.60486                                                                                                                 \n",
      "[70]\tvalidation-rmse:8.60484                                                                                                                 \n",
      "[71]\tvalidation-rmse:8.60482                                                                                                                 \n",
      "[72]\tvalidation-rmse:8.60480                                                                                                                 \n",
      "[73]\tvalidation-rmse:8.60479                                                                                                                 \n",
      "[74]\tvalidation-rmse:8.60477                                                                                                                 \n",
      "[75]\tvalidation-rmse:8.60476                                                                                                                 \n",
      "[76]\tvalidation-rmse:8.60475                                                                                                                 \n",
      "[77]\tvalidation-rmse:8.60474                                                                                                                 \n",
      "[78]\tvalidation-rmse:8.60472                                                                                                                 \n",
      "[79]\tvalidation-rmse:8.60472                                                                                                                 \n",
      "[80]\tvalidation-rmse:8.60471                                                                                                                 \n",
      "[81]\tvalidation-rmse:8.60470                                                                                                                 \n",
      "[82]\tvalidation-rmse:8.60469                                                                                                                 \n",
      "[83]\tvalidation-rmse:8.60468                                                                                                                 \n",
      "[84]\tvalidation-rmse:8.60468                                                                                                                 \n",
      "[85]\tvalidation-rmse:8.60467                                                                                                                 \n",
      "[86]\tvalidation-rmse:8.60467                                                                                                                 \n",
      "[87]\tvalidation-rmse:8.60466                                                                                                                 \n",
      "[88]\tvalidation-rmse:8.60466                                                                                                                 \n",
      "[89]\tvalidation-rmse:8.60465                                                                                                                 \n",
      "[90]\tvalidation-rmse:8.60465                                                                                                                 \n",
      "[91]\tvalidation-rmse:8.60465                                                                                                                 \n",
      "[92]\tvalidation-rmse:8.60464                                                                                                                 \n",
      "[93]\tvalidation-rmse:8.60464                                                                                                                 \n",
      "[94]\tvalidation-rmse:8.60464                                                                                                                 \n",
      "[95]\tvalidation-rmse:8.60464                                                                                                                 \n",
      "[96]\tvalidation-rmse:8.60463                                                                                                                 \n",
      "[97]\tvalidation-rmse:8.60463                                                                                                                 \n",
      "[98]\tvalidation-rmse:8.60463                                                                                                                 \n",
      "[99]\tvalidation-rmse:8.60463                                                                                                                 \n",
      " 40%|█████████████████████████████▌                                            | 2/5 [01:21<02:04, 41.64s/trial, best loss: 8.60461084150837]"
     ]
    },
    {
     "name": "stderr",
     "output_type": "stream",
     "text": [
      "/home/codespace/.local/lib/python3.10/site-packages/sklearn/metrics/_regression.py:483: FutureWarning: 'squared' is deprecated in version 1.4 and will be removed in 1.6. To calculate the root mean squared error, use the function'root_mean_squared_error'.\n",
      "  warnings.warn(\n",
      "\n",
      "/opt/conda/envs/exp-tracking-env/lib/python3.10/site-packages/xgboost/core.py:160: UserWarning: [03:16:21] WARNING: /workspace/src/objective/regression_obj.cu:209: reg:linear is now deprecated in favor of reg:squarederror.\n",
      "  warnings.warn(smsg, UserWarning)\n",
      "\n"
     ]
    },
    {
     "name": "stdout",
     "output_type": "stream",
     "text": [
      "[0]\tvalidation-rmse:9.91837                                                                                                                  \n",
      "[1]\tvalidation-rmse:9.65020                                                                                                                  \n",
      "[2]\tvalidation-rmse:9.43786                                                                                                                  \n",
      "[3]\tvalidation-rmse:9.26950                                                                                                                  \n",
      "[4]\tvalidation-rmse:9.13659                                                                                                                  \n",
      "[5]\tvalidation-rmse:9.03276                                                                                                                  \n",
      "[6]\tvalidation-rmse:8.94981                                                                                                                  \n",
      "[7]\tvalidation-rmse:8.88220                                                                                                                  \n",
      "[8]\tvalidation-rmse:8.83139                                                                                                                  \n",
      "[9]\tvalidation-rmse:8.79301                                                                                                                  \n",
      "[10]\tvalidation-rmse:8.75894                                                                                                                 \n",
      "[11]\tvalidation-rmse:8.73270                                                                                                                 \n",
      "[12]\tvalidation-rmse:8.71143                                                                                                                 \n",
      "[13]\tvalidation-rmse:8.69422                                                                                                                 \n",
      "[14]\tvalidation-rmse:8.67942                                                                                                                 \n",
      "[15]\tvalidation-rmse:8.66884                                                                                                                 \n",
      "[16]\tvalidation-rmse:8.65874                                                                                                                 \n",
      "[17]\tvalidation-rmse:8.65164                                                                                                                 \n",
      "[18]\tvalidation-rmse:8.64537                                                                                                                 \n",
      "[19]\tvalidation-rmse:8.63957                                                                                                                 \n",
      "[20]\tvalidation-rmse:8.63526                                                                                                                 \n",
      "[21]\tvalidation-rmse:8.63172                                                                                                                 \n",
      "[22]\tvalidation-rmse:8.62898                                                                                                                 \n",
      "[23]\tvalidation-rmse:8.62623                                                                                                                 \n",
      "[24]\tvalidation-rmse:8.62375                                                                                                                 \n",
      "[25]\tvalidation-rmse:8.62155                                                                                                                 \n",
      "[26]\tvalidation-rmse:8.61993                                                                                                                 \n",
      "[27]\tvalidation-rmse:8.61827                                                                                                                 \n",
      "[28]\tvalidation-rmse:8.61712                                                                                                                 \n",
      "[29]\tvalidation-rmse:8.61556                                                                                                                 \n",
      "[30]\tvalidation-rmse:8.61437                                                                                                                 \n",
      "[31]\tvalidation-rmse:8.61338                                                                                                                 \n",
      "[32]\tvalidation-rmse:8.61257                                                                                                                 \n",
      "[33]\tvalidation-rmse:8.61185                                                                                                                 \n",
      "[34]\tvalidation-rmse:8.61129                                                                                                                 \n",
      "[35]\tvalidation-rmse:8.61080                                                                                                                 \n",
      "[36]\tvalidation-rmse:8.61045                                                                                                                 \n",
      "[37]\tvalidation-rmse:8.61012                                                                                                                 \n",
      "[38]\tvalidation-rmse:8.60976                                                                                                                 \n",
      "[39]\tvalidation-rmse:8.60955                                                                                                                 \n",
      "[40]\tvalidation-rmse:8.60926                                                                                                                 \n",
      "[41]\tvalidation-rmse:8.60901                                                                                                                 \n",
      "[42]\tvalidation-rmse:8.60889                                                                                                                 \n",
      "[43]\tvalidation-rmse:8.60859                                                                                                                 \n",
      "[44]\tvalidation-rmse:8.60835                                                                                                                 \n",
      "[45]\tvalidation-rmse:8.60822                                                                                                                 \n",
      "[46]\tvalidation-rmse:8.60810                                                                                                                 \n",
      "[47]\tvalidation-rmse:8.60800                                                                                                                 \n",
      "[48]\tvalidation-rmse:8.60787                                                                                                                 \n",
      "[49]\tvalidation-rmse:8.60766                                                                                                                 \n",
      "[50]\tvalidation-rmse:8.60756                                                                                                                 \n",
      "[51]\tvalidation-rmse:8.60748                                                                                                                 \n",
      "[52]\tvalidation-rmse:8.60741                                                                                                                 \n",
      "[53]\tvalidation-rmse:8.60735                                                                                                                 \n",
      "[54]\tvalidation-rmse:8.60718                                                                                                                 \n",
      "[55]\tvalidation-rmse:8.60715                                                                                                                 \n",
      "[56]\tvalidation-rmse:8.60702                                                                                                                 \n",
      "[57]\tvalidation-rmse:8.60690                                                                                                                 \n",
      "[58]\tvalidation-rmse:8.60686                                                                                                                 \n",
      "[59]\tvalidation-rmse:8.60674                                                                                                                 \n",
      "[60]\tvalidation-rmse:8.60672                                                                                                                 \n",
      "[61]\tvalidation-rmse:8.60669                                                                                                                 \n",
      "[62]\tvalidation-rmse:8.60660                                                                                                                 \n",
      "[63]\tvalidation-rmse:8.60650                                                                                                                 \n",
      "[64]\tvalidation-rmse:8.60643                                                                                                                 \n",
      "[65]\tvalidation-rmse:8.60633                                                                                                                 \n",
      "[66]\tvalidation-rmse:8.60626                                                                                                                 \n",
      "[67]\tvalidation-rmse:8.60620                                                                                                                 \n",
      "[68]\tvalidation-rmse:8.60618                                                                                                                 \n",
      "[69]\tvalidation-rmse:8.60612                                                                                                                 \n",
      "[70]\tvalidation-rmse:8.60606                                                                                                                 \n",
      "[71]\tvalidation-rmse:8.60601                                                                                                                 \n",
      "[72]\tvalidation-rmse:8.60600                                                                                                                 \n",
      "[73]\tvalidation-rmse:8.60593                                                                                                                 \n",
      "[74]\tvalidation-rmse:8.60592                                                                                                                 \n",
      "[75]\tvalidation-rmse:8.60590                                                                                                                 \n",
      "[76]\tvalidation-rmse:8.60586                                                                                                                 \n",
      "[77]\tvalidation-rmse:8.60582                                                                                                                 \n",
      "[78]\tvalidation-rmse:8.60578                                                                                                                 \n",
      "[79]\tvalidation-rmse:8.60573                                                                                                                 \n",
      "[80]\tvalidation-rmse:8.60572                                                                                                                 \n",
      "[81]\tvalidation-rmse:8.60571                                                                                                                 \n",
      "[82]\tvalidation-rmse:8.60568                                                                                                                 \n",
      "[83]\tvalidation-rmse:8.60567                                                                                                                 \n",
      "[84]\tvalidation-rmse:8.60563                                                                                                                 \n",
      "[85]\tvalidation-rmse:8.60558                                                                                                                 \n",
      "[86]\tvalidation-rmse:8.60558                                                                                                                 \n",
      "[87]\tvalidation-rmse:8.60557                                                                                                                 \n",
      "[88]\tvalidation-rmse:8.60554                                                                                                                 \n",
      "[89]\tvalidation-rmse:8.60554                                                                                                                 \n",
      "[90]\tvalidation-rmse:8.60550                                                                                                                 \n",
      "[91]\tvalidation-rmse:8.60547                                                                                                                 \n",
      "[92]\tvalidation-rmse:8.60546                                                                                                                 \n",
      "[93]\tvalidation-rmse:8.60544                                                                                                                 \n",
      "[94]\tvalidation-rmse:8.60542                                                                                                                 \n",
      "[95]\tvalidation-rmse:8.60542                                                                                                                 \n",
      "[96]\tvalidation-rmse:8.60539                                                                                                                 \n",
      "[97]\tvalidation-rmse:8.60536                                                                                                                 \n",
      "[98]\tvalidation-rmse:8.60535                                                                                                                 \n",
      "[99]\tvalidation-rmse:8.60533                                                                                                                 \n",
      " 60%|████████████████████████████████████████████▍                             | 3/5 [01:52<01:14, 37.00s/trial, best loss: 8.60461084150837]"
     ]
    },
    {
     "name": "stderr",
     "output_type": "stream",
     "text": [
      "/home/codespace/.local/lib/python3.10/site-packages/sklearn/metrics/_regression.py:483: FutureWarning: 'squared' is deprecated in version 1.4 and will be removed in 1.6. To calculate the root mean squared error, use the function'root_mean_squared_error'.\n",
      "  warnings.warn(\n",
      "\n",
      "/opt/conda/envs/exp-tracking-env/lib/python3.10/site-packages/xgboost/core.py:160: UserWarning: [03:16:53] WARNING: /workspace/src/objective/regression_obj.cu:209: reg:linear is now deprecated in favor of reg:squarederror.\n",
      "  warnings.warn(smsg, UserWarning)\n",
      "\n"
     ]
    },
    {
     "name": "stdout",
     "output_type": "stream",
     "text": [
      "[0]\tvalidation-rmse:9.61226                                                                                                                  \n",
      "[1]\tvalidation-rmse:9.21567                                                                                                                  \n",
      "[2]\tvalidation-rmse:8.97421                                                                                                                  \n",
      "[3]\tvalidation-rmse:8.82857                                                                                                                  \n",
      "[4]\tvalidation-rmse:8.74107                                                                                                                  \n",
      "[5]\tvalidation-rmse:8.68847                                                                                                                  \n",
      "[6]\tvalidation-rmse:8.65673                                                                                                                  \n",
      "[7]\tvalidation-rmse:8.63745                                                                                                                  \n",
      "[8]\tvalidation-rmse:8.62562                                                                                                                  \n",
      "[9]\tvalidation-rmse:8.61829                                                                                                                  \n",
      "[10]\tvalidation-rmse:8.61368                                                                                                                 \n",
      "[11]\tvalidation-rmse:8.61073                                                                                                                 \n",
      "[12]\tvalidation-rmse:8.60882                                                                                                                 \n",
      "[13]\tvalidation-rmse:8.60755                                                                                                                 \n",
      "[14]\tvalidation-rmse:8.60670                                                                                                                 \n",
      "[15]\tvalidation-rmse:8.60611                                                                                                                 \n",
      "[16]\tvalidation-rmse:8.60570                                                                                                                 \n",
      "[17]\tvalidation-rmse:8.60541                                                                                                                 \n",
      "[18]\tvalidation-rmse:8.60520                                                                                                                 \n",
      "[19]\tvalidation-rmse:8.60505                                                                                                                 \n",
      "[20]\tvalidation-rmse:8.60494                                                                                                                 \n",
      "[21]\tvalidation-rmse:8.60486                                                                                                                 \n",
      "[22]\tvalidation-rmse:8.60480                                                                                                                 \n",
      "[23]\tvalidation-rmse:8.60475                                                                                                                 \n",
      "[24]\tvalidation-rmse:8.60472                                                                                                                 \n",
      "[25]\tvalidation-rmse:8.60469                                                                                                                 \n",
      "[26]\tvalidation-rmse:8.60467                                                                                                                 \n",
      "[27]\tvalidation-rmse:8.60466                                                                                                                 \n",
      "[28]\tvalidation-rmse:8.60465                                                                                                                 \n",
      "[29]\tvalidation-rmse:8.60464                                                                                                                 \n",
      "[30]\tvalidation-rmse:8.60463                                                                                                                 \n",
      "[31]\tvalidation-rmse:8.60463                                                                                                                 \n",
      "[32]\tvalidation-rmse:8.60462                                                                                                                 \n",
      "[33]\tvalidation-rmse:8.60462                                                                                                                 \n",
      "[34]\tvalidation-rmse:8.60462                                                                                                                 \n",
      "[35]\tvalidation-rmse:8.60462                                                                                                                 \n",
      "[36]\tvalidation-rmse:8.60461                                                                                                                 \n",
      "[37]\tvalidation-rmse:8.60461                                                                                                                 \n",
      "[38]\tvalidation-rmse:8.60461                                                                                                                 \n",
      "[39]\tvalidation-rmse:8.60461                                                                                                                 \n",
      "[40]\tvalidation-rmse:8.60461                                                                                                                 \n",
      "[41]\tvalidation-rmse:8.60461                                                                                                                 \n",
      "[42]\tvalidation-rmse:8.60461                                                                                                                 \n",
      "[43]\tvalidation-rmse:8.60461                                                                                                                 \n",
      "[44]\tvalidation-rmse:8.60461                                                                                                                 \n",
      "[45]\tvalidation-rmse:8.60461                                                                                                                 \n",
      "[46]\tvalidation-rmse:8.60461                                                                                                                 \n",
      "[47]\tvalidation-rmse:8.60461                                                                                                                 \n",
      "[48]\tvalidation-rmse:8.60461                                                                                                                 \n",
      "[49]\tvalidation-rmse:8.60461                                                                                                                 \n",
      "[50]\tvalidation-rmse:8.60461                                                                                                                 \n",
      "[51]\tvalidation-rmse:8.60461                                                                                                                 \n",
      "[52]\tvalidation-rmse:8.60461                                                                                                                 \n",
      "[53]\tvalidation-rmse:8.60461                                                                                                                 \n",
      "[54]\tvalidation-rmse:8.60461                                                                                                                 \n",
      "[55]\tvalidation-rmse:8.60461                                                                                                                 \n",
      "[56]\tvalidation-rmse:8.60461                                                                                                                 \n",
      "[57]\tvalidation-rmse:8.60461                                                                                                                 \n",
      "[58]\tvalidation-rmse:8.60461                                                                                                                 \n",
      "[59]\tvalidation-rmse:8.60461                                                                                                                 \n",
      "[60]\tvalidation-rmse:8.60461                                                                                                                 \n",
      "[61]\tvalidation-rmse:8.60461                                                                                                                 \n",
      " 80%|███████████████████████████████████████████████████████████▏              | 4/5 [02:18<00:32, 32.50s/trial, best loss: 8.60461084150837]"
     ]
    },
    {
     "name": "stderr",
     "output_type": "stream",
     "text": [
      "/home/codespace/.local/lib/python3.10/site-packages/sklearn/metrics/_regression.py:483: FutureWarning: 'squared' is deprecated in version 1.4 and will be removed in 1.6. To calculate the root mean squared error, use the function'root_mean_squared_error'.\n",
      "  warnings.warn(\n",
      "\n",
      "/opt/conda/envs/exp-tracking-env/lib/python3.10/site-packages/xgboost/core.py:160: UserWarning: [03:17:18] WARNING: /workspace/src/objective/regression_obj.cu:209: reg:linear is now deprecated in favor of reg:squarederror.\n",
      "  warnings.warn(smsg, UserWarning)\n",
      "\n"
     ]
    },
    {
     "name": "stdout",
     "output_type": "stream",
     "text": [
      "[0]\tvalidation-rmse:9.65348                                                                                                                  \n",
      "[1]\tvalidation-rmse:9.26724                                                                                                                  \n",
      "[2]\tvalidation-rmse:9.02203                                                                                                                  \n",
      "[3]\tvalidation-rmse:8.86775                                                                                                                  \n",
      "[4]\tvalidation-rmse:8.77111                                                                                                                  \n",
      "[5]\tvalidation-rmse:8.71062                                                                                                                  \n",
      "[6]\tvalidation-rmse:8.67268                                                                                                                  \n",
      "[7]\tvalidation-rmse:8.64878                                                                                                                  \n",
      "[8]\tvalidation-rmse:8.63362                                                                                                                  \n",
      "[9]\tvalidation-rmse:8.62393                                                                                                                  \n",
      "[10]\tvalidation-rmse:8.61766                                                                                                                 \n",
      "[11]\tvalidation-rmse:8.61356                                                                                                                 \n",
      "[12]\tvalidation-rmse:8.61085                                                                                                                 \n",
      "[13]\tvalidation-rmse:8.60902                                                                                                                 \n",
      "[14]\tvalidation-rmse:8.60777                                                                                                                 \n",
      "[15]\tvalidation-rmse:8.60691                                                                                                                 \n",
      "[16]\tvalidation-rmse:8.60630                                                                                                                 \n",
      "[17]\tvalidation-rmse:8.60587                                                                                                                 \n",
      "[18]\tvalidation-rmse:8.60555                                                                                                                 \n",
      "[19]\tvalidation-rmse:8.60532                                                                                                                 \n",
      "[20]\tvalidation-rmse:8.60515                                                                                                                 \n",
      "[21]\tvalidation-rmse:8.60502                                                                                                                 \n",
      "[22]\tvalidation-rmse:8.60493                                                                                                                 \n",
      "[23]\tvalidation-rmse:8.60485                                                                                                                 \n",
      "[24]\tvalidation-rmse:8.60480                                                                                                                 \n",
      "[25]\tvalidation-rmse:8.60476                                                                                                                 \n",
      "[26]\tvalidation-rmse:8.60472                                                                                                                 \n",
      "[27]\tvalidation-rmse:8.60470                                                                                                                 \n",
      "[28]\tvalidation-rmse:8.60468                                                                                                                 \n",
      "[29]\tvalidation-rmse:8.60466                                                                                                                 \n",
      "[30]\tvalidation-rmse:8.60465                                                                                                                 \n",
      "[31]\tvalidation-rmse:8.60464                                                                                                                 \n",
      "[32]\tvalidation-rmse:8.60464                                                                                                                 \n",
      "[33]\tvalidation-rmse:8.60463                                                                                                                 \n",
      "[34]\tvalidation-rmse:8.60463                                                                                                                 \n",
      "[35]\tvalidation-rmse:8.60462                                                                                                                 \n",
      "[36]\tvalidation-rmse:8.60462                                                                                                                 \n",
      "[37]\tvalidation-rmse:8.60462                                                                                                                 \n",
      "[38]\tvalidation-rmse:8.60462                                                                                                                 \n",
      "[39]\tvalidation-rmse:8.60462                                                                                                                 \n",
      "[40]\tvalidation-rmse:8.60461                                                                                                                 \n",
      "[41]\tvalidation-rmse:8.60461                                                                                                                 \n",
      "[42]\tvalidation-rmse:8.60461                                                                                                                 \n",
      "[43]\tvalidation-rmse:8.60461                                                                                                                 \n",
      "[44]\tvalidation-rmse:8.60461                                                                                                                 \n",
      "[45]\tvalidation-rmse:8.60461                                                                                                                 \n",
      "[46]\tvalidation-rmse:8.60461                                                                                                                 \n",
      "[47]\tvalidation-rmse:8.60461                                                                                                                 \n",
      "[48]\tvalidation-rmse:8.60461                                                                                                                 \n",
      "[49]\tvalidation-rmse:8.60461                                                                                                                 \n",
      "[50]\tvalidation-rmse:8.60461                                                                                                                 \n",
      "[51]\tvalidation-rmse:8.60461                                                                                                                 \n",
      "[52]\tvalidation-rmse:8.60461                                                                                                                 \n",
      "[53]\tvalidation-rmse:8.60461                                                                                                                 \n",
      "[54]\tvalidation-rmse:8.60461                                                                                                                 \n",
      "[55]\tvalidation-rmse:8.60461                                                                                                                 \n",
      "[56]\tvalidation-rmse:8.60461                                                                                                                 \n",
      "[57]\tvalidation-rmse:8.60461                                                                                                                 \n",
      "[58]\tvalidation-rmse:8.60461                                                                                                                 \n",
      "[59]\tvalidation-rmse:8.60461                                                                                                                 \n",
      "[60]\tvalidation-rmse:8.60461                                                                                                                 \n",
      "[61]\tvalidation-rmse:8.60461                                                                                                                 \n",
      "[62]\tvalidation-rmse:8.60461                                                                                                                 \n",
      "[63]\tvalidation-rmse:8.60461                                                                                                                 \n",
      "[64]\tvalidation-rmse:8.60461                                                                                                                 \n",
      "[65]\tvalidation-rmse:8.60461                                                                                                                 \n",
      "[66]\tvalidation-rmse:8.60461                                                                                                                 \n",
      "[67]\tvalidation-rmse:8.60461                                                                                                                 \n",
      "[68]\tvalidation-rmse:8.60461                                                                                                                 \n",
      "100%|█████████████████████████████████████████████████████████████████████████| 5/5 [02:46<00:00, 33.22s/trial, best loss: 8.604610779449224]\n"
     ]
    },
    {
     "name": "stderr",
     "output_type": "stream",
     "text": [
      "/home/codespace/.local/lib/python3.10/site-packages/sklearn/metrics/_regression.py:483: FutureWarning: 'squared' is deprecated in version 1.4 and will be removed in 1.6. To calculate the root mean squared error, use the function'root_mean_squared_error'.\n",
      "  warnings.warn(\n",
      "\n"
     ]
    }
   ],
   "source": [
    "search_space = {\n",
    "    'max_depth': scope.int(hp.quniform('max_depth', 4, 100, 1)),\n",
    "    'learning_rate': hp.loguniform('learning_rate', -3, 0),\n",
    "    'reg_alpha': hp.loguniform('reg_alpha', -5, -1),\n",
    "    'reg_lambda': hp.loguniform('reg_lambda', -6, -1),\n",
    "    'min_child_weight': hp.loguniform('min_child_weight', -1, 3),\n",
    "    'objective': 'reg:linear',\n",
    "    'seed': 42\n",
    "}\n",
    "\n",
    "best_result = fmin(\n",
    "    fn=objective,\n",
    "    space=search_space,\n",
    "    algo=tpe.suggest,\n",
    "    max_evals=5,\n",
    "    trials=Trials()\n",
    ")"
   ]
  },
  {
   "cell_type": "code",
   "execution_count": null,
   "id": "8640d1f4-68ff-4362-9d41-29747a357d19",
   "metadata": {},
   "outputs": [],
   "source": []
  }
 ],
 "metadata": {
  "kernelspec": {
   "display_name": "Python 3 (ipykernel)",
   "language": "python",
   "name": "python3"
  },
  "language_info": {
   "codemirror_mode": {
    "name": "ipython",
    "version": 3
   },
   "file_extension": ".py",
   "mimetype": "text/x-python",
   "name": "python",
   "nbconvert_exporter": "python",
   "pygments_lexer": "ipython3",
   "version": "3.10.13"
  }
 },
 "nbformat": 4,
 "nbformat_minor": 5
}
